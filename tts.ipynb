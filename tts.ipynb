{
 "cells": [
  {
   "cell_type": "markdown",
   "id": "bd1fb516",
   "metadata": {},
   "source": [
    "# Docker version"
   ]
  },
  {
   "cell_type": "code",
   "execution_count": 1,
   "id": "7c3d3fa4",
   "metadata": {},
   "outputs": [],
   "source": [
    "# import requests\n",
    "# text = \"信じられない！ほんとうに？すごい！\"\n",
    "\n",
    "# # Requesting TTS from voicevox\n",
    "# speaker_id = 2\n",
    "# url = \"http://localhost:50021/audio_query\"\n",
    "\n",
    "# query = requests.post(\n",
    "#     url,\n",
    "#     params={\n",
    "#         'text': text, \n",
    "#         'speaker': speaker_id,\n",
    "#         'speed_scale': 0.8\n",
    "#         }\n",
    "# )\n",
    "# query_response = query.json()\n",
    "# synth_response = requests.post(\n",
    "#     \"http://localhost:50021/synthesis\",\n",
    "#     params={'speaker': speaker_id},\n",
    "#     json=query_response\n",
    "# )\n",
    "\n",
    "# with open('output.wav', 'wb') as f:\n",
    "#     f.write(synth_response.content)"
   ]
  },
  {
   "cell_type": "markdown",
   "id": "35b1c3a9",
   "metadata": {},
   "source": [
    "# Python API version"
   ]
  },
  {
   "cell_type": "code",
   "execution_count": 2,
   "id": "5c8461ed",
   "metadata": {},
   "outputs": [],
   "source": [
    "from voicevox_core.blocking import Onnxruntime, OpenJtalk, Synthesizer, VoiceModelFile\n",
    "import pprint"
   ]
  },
  {
   "cell_type": "code",
   "execution_count": 3,
   "id": "2938c3f9",
   "metadata": {},
   "outputs": [
    {
     "name": "stdout",
     "output_type": "stream",
     "text": [
      "[CharacterMeta(name='四国めたん',\n",
      "               styles=[StyleMeta(name='ノーマル', id=2, type='talk', order=0),\n",
      "                       StyleMeta(name='あまあま', id=0, type='talk', order=1),\n",
      "                       StyleMeta(name='ツンツン', id=6, type='talk', order=2),\n",
      "                       StyleMeta(name='セクシー', id=4, type='talk', order=3)],\n",
      "               speaker_uuid='7ffcb7ce-00ec-4bdc-82cd-45a8889e43ff',\n",
      "               version='0.1.0',\n",
      "               order=0),\n",
      " CharacterMeta(name='ずんだもん',\n",
      "               styles=[StyleMeta(name='ノーマル', id=3, type='talk', order=0),\n",
      "                       StyleMeta(name='あまあま', id=1, type='talk', order=1),\n",
      "                       StyleMeta(name='ツンツン', id=7, type='talk', order=2),\n",
      "                       StyleMeta(name='セクシー', id=5, type='talk', order=3)],\n",
      "               speaker_uuid='388f246b-8c41-4ac1-8e2d-5d79f3ff56d9',\n",
      "               version='0.1.0',\n",
      "               order=1),\n",
      " CharacterMeta(name='春日部つむぎ',\n",
      "               styles=[StyleMeta(name='ノーマル', id=8, type='talk', order=0)],\n",
      "               speaker_uuid='35b2c544-660e-401e-b503-0e14c635303a',\n",
      "               version='0.1.0',\n",
      "               order=2),\n",
      " CharacterMeta(name='雨晴はう',\n",
      "               styles=[StyleMeta(name='ノーマル', id=10, type='talk', order=0)],\n",
      "               speaker_uuid='3474ee95-c274-47f9-aa1a-8322163d96f1',\n",
      "               version='0.1.0',\n",
      "               order=3)]\n"
     ]
    }
   ],
   "source": [
    "onnxruntime = Onnxruntime.load_once(\n",
    "    filename='./voicevox/python/onnxruntime/lib/libvoicevox_onnxruntime.so.1.17.3'\n",
    "    )\n",
    "synthesizer = Synthesizer(\n",
    "        onnxruntime,\n",
    "        OpenJtalk(\n",
    "            './voicevox/python/dict/open_jtalk_dic_utf_8-1.11'\n",
    "            ),\n",
    "        acceleration_mode='AUTO',\n",
    "        cpu_num_threads=4\n",
    "    )\n",
    "\n",
    "voice_model_number = 0\n",
    "with VoiceModelFile.open(f'./voicevox/python/models/vvms/{voice_model_number}.vvm') as model:\n",
    "        synthesizer.load_voice_model(model)\n",
    "\n",
    "# After loading the voice model, inspect available styles:\n",
    "styles = synthesizer.metas()\n",
    "pprint.pprint(styles)"
   ]
  },
  {
   "cell_type": "code",
   "execution_count": 8,
   "id": "004d9459",
   "metadata": {},
   "outputs": [],
   "source": [
    "custom_style_id = 8\n",
    "\n",
    "audio_query = synthesizer.create_audio_query(\n",
    "    '斉藤さん！よろしくお願いします', \n",
    "    style_id=custom_style_id\n",
    "    )\n",
    "\n",
    "wav = synthesizer.synthesis(\n",
    "    audio_query,\n",
    "    style_id=custom_style_id,\n",
    ")\n",
    "with open('output2.wav', 'wb') as f:\n",
    "    f.write(wav)"
   ]
  }
 ],
 "metadata": {
  "kernelspec": {
   "display_name": "Python 3",
   "language": "python",
   "name": "python3"
  },
  "language_info": {
   "codemirror_mode": {
    "name": "ipython",
    "version": 3
   },
   "file_extension": ".py",
   "mimetype": "text/x-python",
   "name": "python",
   "nbconvert_exporter": "python",
   "pygments_lexer": "ipython3",
   "version": "3.11.13"
  }
 },
 "nbformat": 4,
 "nbformat_minor": 5
}
