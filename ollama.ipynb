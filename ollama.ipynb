{
 "cells": [
  {
   "cell_type": "code",
   "execution_count": 1,
   "id": "b3fb60a5",
   "metadata": {},
   "outputs": [],
   "source": [
    "from ollama import chat\n",
    "from ollama import ChatResponse"
   ]
  },
  {
   "cell_type": "markdown",
   "id": "3858c514",
   "metadata": {},
   "source": [
    "On lanuch, use the following in terminal:\n",
    "```bash\n",
    "ollama serve\n",
    "```"
   ]
  },
  {
   "cell_type": "code",
   "execution_count": 32,
   "id": "218f9191",
   "metadata": {},
   "outputs": [
    {
     "name": "stdout",
     "output_type": "stream",
     "text": [
      "ああ、大阪に住んでるんだよ。たこ焼き食べたけど、やっぱり大阪の方がめっちゃ美味しいわね！ってことだわ。\n"
     ]
    }
   ],
   "source": [
    "response: ChatResponse = chat(\n",
    "  model='gemma3:1b', \n",
    "  messages=[\n",
    "    {\n",
    "      'role': 'system',\n",
    "      'content': '''\n",
    "      Assume you are a Japanese teacher having a conversation with a student. \n",
    "      Respond entirely in Japanese and do not use any romaji.\n",
    "      Do not explain your responses in English.\n",
    "      Feel free to have any emotions or personality, but don't giving any emotion in text form.\n",
    "      '''\n",
    "    },\n",
    "    {\n",
    "      'role': 'user',\n",
    "      'content': 'あなたは大阪に住む人です。 「東京でたこ焼きを食べたけど、やっぱり大阪の方がうまいわ！」という気持ちを、関西弁で話してください。',\n",
    "      'options': {\n",
    "      'num_ctx': 2048,\n",
    "      'temperature': 0.9,\n",
    "      'repeat_penalty': 1.1,\n",
    "      'top_p': 0.9,\n",
    "      'num_predict': 100,\n",
    "      'stop': ['\\n', 'User:', 'AI:']\n",
    "      }\n",
    "    },\n",
    "\n",
    "])\n",
    "print(response.message.content)"
   ]
  }
 ],
 "metadata": {
  "kernelspec": {
   "display_name": "Python 3",
   "language": "python",
   "name": "python3"
  },
  "language_info": {
   "codemirror_mode": {
    "name": "ipython",
    "version": 3
   },
   "file_extension": ".py",
   "mimetype": "text/x-python",
   "name": "python",
   "nbconvert_exporter": "python",
   "pygments_lexer": "ipython3",
   "version": "3.11.13"
  }
 },
 "nbformat": 4,
 "nbformat_minor": 5
}
